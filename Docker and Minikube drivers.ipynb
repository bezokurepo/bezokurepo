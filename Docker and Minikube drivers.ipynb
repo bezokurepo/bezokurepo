{
 "cells": [
  {
   "cell_type": "code",
   "execution_count": null,
   "id": "46a57d86-7f45-4d0d-ab16-cd29ae7de551",
   "metadata": {},
   "outputs": [],
   "source": [
    "### Docker and Minikube install on ubuntu 22.04\n",
    "# Using Anaconda assistant\n",
    "# April 2025\n",
    "# Support ian.gilmour@euler.digital\n"
   ]
  },
  {
   "cell_type": "markdown",
   "id": "2210c9a8-19ca-4f6d-877d-405e668b2286",
   "metadata": {},
   "source": [
    "\n",
    "After running the port-forwarding command, you can access the Kubeflow dashboard by opening a browser and navigating to: `http://localhost:8080`\n",
    "\n",
    "## Useful Python Packages for Kubeflow\n",
    "\n",
    "If you're planning to interact with Kubeflow programmatically, these Python packages will be helpful:\n",
    "\n",
    "1. `kfp` (Kubeflow Pipelines SDK) - For creating and managing Kubeflow pipelines\n",
    "2. `kubernetes` - Python client for Kubernetes\n",
    "3. `kfserving` - For deploying models on Kubeflow\n",
    "4. `fairing` - For packaging, building, and deploying ML models\n",
    "\n",
    "To install these packages:"
   ]
  },
  {
   "cell_type": "markdown",
   "id": "a0548d42-25da-433e-a80c-5d67ad66886b",
   "metadata": {},
   "source": [
    "pip install kfp kubernetes kfserving kubeflow-fairing"
   ]
  },
  {
   "cell_type": "markdown",
   "id": "b6e61426-2c28-4d30-a720-6fd8505f508d",
   "metadata": {},
   "source": [
    "\n",
    "Remember that accessing Kubeflow might require authentication depending on your setup. If you're using Kubeflow with Dex or other authentication methods, you'll need to follow the appropriate login procedures."
   ]
  },
  {
   "cell_type": "markdown",
   "id": "469cb0fb-5f33-4a4c-b1b9-ec9134b9ab69",
   "metadata": {},
   "source": [
    "bash\n",
    "# Start Minikube with Docker driver\n",
    "minikube start --driver=docker\n",
    "\n",
    "# Allocate specific resources (optional)\n",
    "minikube start --driver=docker --cpus=8 --memory=8192MB --disk-size=30GB\n",
    "\n",
    "# To verify Minikube is running\n",
    "minikube status\n",
    "\n",
    "# To access the Kubernetes dashboard\n",
    "minikube dashboard\n",
    "\n",
    "# To interact with services running in Minikube\n",
    "# For a specific service (replace service_name and namespace)\n",
    "minikube service service_name -n namespace\n",
    "\n",
    "# To stop Minikube when done\n",
    "minikube stop\n",
    "\n",
    "# To completely delete the Minikube cluster if needed\n",
    "# minikube delete"
   ]
  },
  {
   "cell_type": "markdown",
   "id": "d9976d46-0552-4928-a5e9-42d78a1fadcb",
   "metadata": {},
   "source": [
    "\n",
    "## Useful Python Packages for Minikube/Kubernetes\n",
    "\n",
    "Python packages for MiniKube:\n",
    "\n",
    "1. `kubernetes` - Official Python client for Kubernetes\n",
    "2. `docker` - Python Docker API\n",
    "3. `click` - For building command-line interfaces\n",
    "4. `pykube-ng` - Alternative Kubernetes client\n",
    "5. `pytest-kind` - For testing Kubernetes applications\n",
    "\n",
    "To install these packages:"
   ]
  },
  {
   "cell_type": "markdown",
   "id": "1c00fcfb-315e-4547-b97f-c78009fd3b5b",
   "metadata": {},
   "source": [
    "pip install kubernetes docker click pykube-ng pytest-kind"
   ]
  },
  {
   "cell_type": "markdown",
   "id": "b6af7291-fd47-4dae-9f80-9f81c84dfea3",
   "metadata": {},
   "source": [
    "bash\n",
    "# Step 1: Install Minikube\n",
    "# Download the latest Minikube binary\n",
    "curl -LO https://storage.googleapis.com/minikube/releases/latest/minikube-linux-amd64\n",
    "\n",
    "# Make it executable and move to path\n",
    "sudo install minikube-linux-amd64 /usr/local/bin/minikube\n",
    "\n",
    "# Step 2: Verify Docker is running (required for Minikube)\n",
    "docker info\n",
    "\n",
    "# Step 3: Start Minikube with Docker driver\n",
    "minikube start --driver=docker\n",
    "\n",
    "# Step 4: Verify Minikube status\n",
    "minikube status\n",
    "\n",
    "# Step 5: Install kubectl if not already installed\n",
    "# Check if kubectl is installed\n",
    "kubectl version --client\n",
    "# If not installed, install it:\n",
    "curl -LO \"https://dl.k8s.io/release/$(curl -L -s https://dl.k8s.io/release/stable.txt)/bin/linux/amd64/kubectl\"\n",
    "sudo install -o root -g root -m 0755 kubectl /usr/local/bin/kubectl\n",
    "\n",
    "# Step 6: Configure kubectl to use Minikube\n",
    "minikube kubectl -- get pods -A\n",
    "# Or create an alias\n",
    "alias kubectl=\"minikube kubectl --\"\n",
    "\n",
    "# Step 7: Access Kubernetes dashboard (optional)\n",
    "minikube dashboard"
   ]
  },
  {
   "cell_type": "markdown",
   "id": "88834127-139e-4ca0-bee9-3b0930c9803f",
   "metadata": {},
   "source": [
    "\n",
    "## Troubleshooting Common Issues\n",
    "\n",
    "Permission issues with Docker:\n",
    "   "
   ]
  },
  {
   "cell_type": "markdown",
   "id": "eb36b6fa-6614-4d4d-a17f-b22f30d5a8b4",
   "metadata": {},
   "source": [
    "bash\n",
    "   sudo usermod -aG docker $USER\n",
    "   # Log out and log back in for changes to take effect\n",
    "   "
   ]
  },
  {
   "cell_type": "markdown",
   "id": "7e623975-369c-490d-8f47-e3b444ace9af",
   "metadata": {},
   "source": [
    "bash\n",
    "# Method 2: Using the official installation script\n",
    "curl -LO https://storage.googleapis.com/minikube/releases/latest/minikube-linux-amd64\n",
    "chmod +x minikube-linux-amd64\n",
    "sudo mv minikube-linux-amd64 /usr/local/bin/minikube\n",
    "\n",
    "# Or Method 3: Using apt repository\n",
    "# Add the repository\n",
    "curl -s https://packages.cloud.google.com/apt/doc/apt-key.gpg | sudo apt-key add -\n",
    "echo \"deb https://apt.kubernetes.io/ kubernetes-xenial main\" | sudo tee /etc/apt/sources.list.d/kubernetes.list\n",
    "sudo apt-get update\n",
    "sudo apt-get install -y minikube\n",
    "\n",
    "# Or Method 4: Using snap\n",
    "sudo snap install minikube"
   ]
  },
  {
   "cell_type": "markdown",
   "id": "d18b01fe-25eb-49ab-a223-63f4be9e6cc6",
   "metadata": {},
   "source": [
    "bash\n",
    "   # Using wget instead of curl\n",
    "   wget https://storage.googleapis.com/minikube/releases/latest/minikube-linux-amd64\n",
    "   "
   ]
  },
  {
   "cell_type": "markdown",
   "id": "4424a14d-5b25-438c-bcb0-5a0aeb346c1d",
   "metadata": {},
   "source": [
    "bash\n",
    "   # If you're behind a proxy, set these environment variables\n",
    "   export HTTP_PROXY=\"http://proxy-address:port\"\n",
    "   export HTTPS_PROXY=\"http://proxy-address:port\"\n",
    "   "
   ]
  },
  {
   "cell_type": "markdown",
   "id": "dae18077-b380-4094-b4dc-c79a9a8d50aa",
   "metadata": {},
   "source": [
    "# Fixing Minikube Docker Driver Issue on Ubuntu 24.04.2 LTS\n",
    "\n",
    "Configuration issues with Docker installation.\n",
    "\n",
    "## Solution Options\n"
   ]
  },
  {
   "cell_type": "markdown",
   "id": "b6268742-9a9f-4c5f-b264-85ab4ba0b514",
   "metadata": {},
   "source": [
    "bash\n",
    "\n",
    "# KVM driver (recommended for Linux)\n",
    "# Install KVM dependencies\n",
    "sudo apt update\n",
    "sudo apt install -y qemu-kvm libvirt-daemon-system libvirt-clients bridge-utils virtinst\n",
    "# Add user to the libvirt group\n",
    "sudo usermod -aG libvirt $USER\n",
    "sudo usermod -aG kvm $USER\n",
    "# Log out and log back in for group changes to take effect\n",
    "# Install the KVM2 driver for Minikube\n",
    "sudo apt install -y libvirt-dev\n",
    "# Start minikube with KVM\n",
    "minikube start --driver=kvm2\n"
   ]
  },
  {
   "cell_type": "markdown",
   "id": "c7a8e398-ea1e-4014-95ee-0756e5bd2dbc",
   "metadata": {},
   "source": [
    "bash\n",
    "# Check Docker version\n",
    "docker version\n",
    "\n",
    "# Check Docker info\n",
    "docker info\n",
    "\n",
    "# Check if Docker is running properly\n",
    "docker run hello-world\n",
    "\n",
    "# Check if Docker is using cgroups v2 (which might cause issues)\n",
    "docker info | grep -i cgroup"
   ]
  },
  {
   "cell_type": "markdown",
   "id": "be70d4d9-7cb0-4010-ad26-c992658fd54b",
   "metadata": {},
   "source": [
    "## Complete Setup Guide for Minikube with KVM\n"
   ]
  },
  {
   "cell_type": "markdown",
   "id": "460d3d4f-4ed6-4aba-a8a6-8444607034fe",
   "metadata": {},
   "source": [
    "bash\n",
    "# Step 1: Verify user is  part of the libvirt and kvm groups\n",
    "groups | grep -E 'libvirt|kvm'\n",
    "\n",
    "# Step 2: Verify KVM installation\n",
    "virsh list --all\n",
    "\n",
    "# Step 3: Install the Docker Machine KVM driver\n",
    "curl -LO https://github.com/kubernetes/minikube/releases/download/v1.35.0/docker-machine-driver-kvm2 && \\\n",
    "chmod +x docker-machine-driver-kvm2 && \\\n",
    "sudo mv docker-machine-driver-kvm2 /usr/local/bin/\n",
    "\n",
    "# Step 4: Start Minikube with KVM driver\n",
    "minikube start --driver=kvm2\n",
    "\n",
    "# Step 5: Verify Minikube is running\n",
    "minikube status\n",
    "\n",
    "# Step 6: Install kubectl if not already installed\n",
    "curl -LO \"https://dl.k8s.io/release/$(curl -L -s https://dl.k8s.io/release/stable.txt)/bin/linux/amd64/kubectl\" && \\\n",
    "chmod +x kubectl && \\\n",
    "sudo mv kubectl /usr/local/bin/\n",
    "\n",
    "# Step 7: Test kubectl with Minikube\n",
    "kubectl get nodes"
   ]
  },
  {
   "cell_type": "markdown",
   "id": "303c9579-102a-4954-889c-7e1ff386c0ce",
   "metadata": {},
   "source": [
    "\n",
    "## Troubleshooting KVM Setup\n",
    "\n",
    "1. Check if virtualization is enabled in your BIOS:\n",
    "   "
   ]
  },
  {
   "cell_type": "markdown",
   "id": "882229ed-1742-44e2-ba38-32f6b82af2c6",
   "metadata": {},
   "source": [
    "bash\n",
    "   egrep -c '(vmx|svm)' /proc/cpuinfo\n",
    "   "
   ]
  },
  {
   "cell_type": "markdown",
   "id": "3403a222-a2a7-4a60-8f7d-df7a309dc2d4",
   "metadata": {},
   "source": [
    "# If the output is 0, virtualization is not enabled in BIOS.\n",
    "\n",
    "# Verify libvirtd service is running:\n",
    "   "
   ]
  },
  {
   "cell_type": "markdown",
   "id": "8c2bf72a-fbf2-45df-8c40-6236c9e53251",
   "metadata": {},
   "source": [
    "bash\n",
    "   systemctl status libvirtd\n",
    "   "
   ]
  },
  {
   "cell_type": "markdown",
   "id": "6d6656c3-dd6c-4df0-9bc2-1ad215a9c099",
   "metadata": {},
   "source": [
    "# If not running:\n",
    "   "
   ]
  },
  {
   "cell_type": "markdown",
   "id": "e490a9ed-5956-4bda-817b-2d9f115e2904",
   "metadata": {},
   "source": [
    "bash\n",
    "   sudo systemctl enable libvirtd\n",
    "   sudo systemctl start libvirtd\n",
    "   "
   ]
  },
  {
   "cell_type": "markdown",
   "id": "a172b53d-9d6d-47b0-b1cc-852f9b9f414e",
   "metadata": {},
   "source": [
    "\n",
    "# Test basic KVM functionality:\n",
    "   "
   ]
  },
  {
   "cell_type": "markdown",
   "id": "c815c1e9-f4ea-491f-a2b9-d9778b2e4e6c",
   "metadata": {},
   "source": [
    "bash\n",
    "   virt-host-validate\n",
    "   "
   ]
  },
  {
   "cell_type": "markdown",
   "id": "26be5dc6-6f64-4752-a0c9-85f45cc10aba",
   "metadata": {},
   "source": [
    "bash\n",
    "# Access the Kubernetes dashboard\n",
    "minikube dashboard\n",
    "\n",
    "# SSH into the Minikube VM\n",
    "minikube ssh\n",
    "\n",
    "# Deploy a sample application\n",
    "kubectl create deployment hello-minikube --image=k8s.gcr.io/echoserver:1.10\n",
    "kubectl expose deployment hello-minikube --type=NodePort --port=8080\n",
    "minikube service hello-minikube\n",
    "\n",
    "# Stop Minikube when not in use (saves resources)\n",
    "minikube stop\n",
    "\n",
    "# Resume Minikube\n",
    "minikube start"
   ]
  }
 ],
 "metadata": {
  "kernelspec": {
   "display_name": "anaconda-panel-2023.05-py310",
   "language": "python",
   "name": "conda-env-anaconda-panel-2023.05-py310-py"
  },
  "language_info": {
   "codemirror_mode": {
    "name": "ipython",
    "version": 3
   },
   "file_extension": ".py",
   "mimetype": "text/x-python",
   "name": "python",
   "nbconvert_exporter": "python",
   "pygments_lexer": "ipython3",
   "version": "3.11.5"
  }
 },
 "nbformat": 4,
 "nbformat_minor": 5
}
