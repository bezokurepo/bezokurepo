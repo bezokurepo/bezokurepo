{
 "cells": [
  {
   "cell_type": "code",
   "execution_count": null,
   "id": "379a650e-8c00-434c-91cf-3844207cab6a",
   "metadata": {},
   "outputs": [],
   "source": [
    "#### Container service (Local Setup)\n",
    "\n",
    "1. **Install Docker.desktop**: Follow the instructions [here](https://https://www.docker.com/products/docker-desktop/).\n",
    "\n",
    "2. **Install Minikube**: Follow the instructions [here](https://minikube.sigs.k8s.io/docs/start/).\n",
    "\n",
    "3. **Install kubectl from Terminal **: See kubectl cell\n",
    "\n",
    "4. **Install Kubeflow**: See KFP cell\n",
    "\n",
    "5. **Build Docker Image**: See Docker Image cell"
   ]
  },
  {
   "cell_type": "code",
   "execution_count": null,
   "id": "b2f3f6bc-9ef3-4842-a4aa-47c3b4f5196c",
   "metadata": {},
   "outputs": [],
   "source": [
    "#### Starting up (Local Setup)\n",
    "\n",
    "1. **Open the Docker app**:\n"
   ]
  },
  {
   "cell_type": "code",
   "execution_count": null,
   "id": "3e75f0b8-a771-4ab4-abe5-2d97fe34266c",
   "metadata": {},
   "outputs": [],
   "source": [
    "#### Install Minikube\n",
    "#### For x86-64 Linux, go to for other local configurations (https://minikube.sigs.k8s.io/docs/start/)\n",
    "curl -LO https://github.com/kubernetes/minikube/releases/latest/download/minikube-linux-amd64\n",
    "sudo install minikube-linux-amd64 /usr/local/bin/minikube && rm minikube-linux-amd64\n"
   ]
  },
  {
   "cell_type": "code",
   "execution_count": null,
   "id": "6f9bcfaf-423c-4e37-b2e7-35edc2eb98bb",
   "metadata": {},
   "outputs": [],
   "source": [
    "#### Start Minikube from Terminal\n",
    "minikube start"
   ]
  },
  {
   "cell_type": "code",
   "execution_count": null,
   "id": "db5a8aef-431b-4018-9a7d-ffcfb4a8f683",
   "metadata": {},
   "outputs": [],
   "source": [
    "#### Load kubectl from Terminal\n",
    "minikube kubectl -- get po -A"
   ]
  },
  {
   "cell_type": "code",
   "execution_count": 1,
   "id": "28bb9336-9187-4c6e-8f58-0b7097688d65",
   "metadata": {
    "execution": {
     "iopub.execute_input": "2025-02-02T02:17:58.401371Z",
     "iopub.status.busy": "2025-02-02T02:17:58.401014Z",
     "iopub.status.idle": "2025-02-02T02:18:01.178130Z",
     "shell.execute_reply": "2025-02-02T02:18:01.177149Z",
     "shell.execute_reply.started": "2025-02-02T02:17:58.401343Z"
    }
   },
   "outputs": [],
   "source": [
    "#### Load kubeflow from Terminal\n",
    "import kfp\n",
    "from kfp import dsl"
   ]
  },
  {
   "cell_type": "code",
   "execution_count": 20,
   "id": "ad6558a9-d4f6-4337-b8c9-b7ce35f53b67",
   "metadata": {
    "execution": {
     "iopub.execute_input": "2025-01-23T02:35:34.281664Z",
     "iopub.status.busy": "2025-01-23T02:35:34.281252Z",
     "iopub.status.idle": "2025-01-23T02:35:34.411538Z",
     "shell.execute_reply": "2025-01-23T02:35:34.410841Z",
     "shell.execute_reply.started": "2025-01-23T02:35:34.281635Z"
    }
   },
   "outputs": [],
   "source": [
    "# Define a simple component\n",
    "@dsl.component\n",
    "def print_hello(name: str):\n",
    "    print(f'Hello, {name}!')\n",
    "\n",
    "# Define a pipeline\n",
    "@dsl.pipeline(\n",
    "    name='Hello World Pipeline',\n",
    "    description='A simple hello world pipeline'\n",
    ")\n",
    "def hello_world_pipeline(name: str):\n",
    "    print_task = print_hello(name=name)  # Use keyword argument\n",
    "\n",
    "# Compile the pipeline\n",
    "if __name__ == '__main__':\n",
    "    kfp.compiler.Compiler().compile(hello_world_pipeline, 'hello_world_pipeline.yaml')"
   ]
  },
  {
   "cell_type": "code",
   "execution_count": null,
   "id": "4745bf65-62c5-4a06-83cb-2a36fd2d5b06",
   "metadata": {},
   "outputs": [],
   "source": []
  }
 ],
 "metadata": {
  "kernelspec": {
   "display_name": "anaconda-2024.02-py310",
   "language": "python",
   "name": "conda-env-anaconda-2024.02-py310-py"
  },
  "language_info": {
   "codemirror_mode": {
    "name": "ipython",
    "version": 3
   },
   "file_extension": ".py",
   "mimetype": "text/x-python",
   "name": "python",
   "nbconvert_exporter": "python",
   "pygments_lexer": "ipython3",
   "version": "3.10.14"
  }
 },
 "nbformat": 4,
 "nbformat_minor": 5
}
